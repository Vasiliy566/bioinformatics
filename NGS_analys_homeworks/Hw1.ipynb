{
 "cells": [
  {
   "cell_type": "code",
   "execution_count": 91,
   "metadata": {},
   "outputs": [],
   "source": [
    "#Powered by Vasily Isaev\n",
    "import matplotlib.pyplot as plt\n",
    "import numpy as np\n",
    "%matplotlib inline"
   ]
  },
  {
   "cell_type": "code",
   "execution_count": 92,
   "metadata": {},
   "outputs": [],
   "source": [
    "#determe read quality in fastq-file\n",
    "def char_qual(char):\n",
    "    if ord(char) > 70: # '70' selected experimentally, main thing that B was defind as bad read\n",
    "        return 1\n",
    "    return 0\n",
    "#simple test:\n",
    "#print (char_qual('!'), char_qual('+'), char_qual('E'),char_qual('n'),char_qual('n'), char_qual('~'))"
   ]
  },
  {
   "cell_type": "code",
   "execution_count": 93,
   "metadata": {},
   "outputs": [
    {
     "name": "stdout",
     "output_type": "stream",
     "text": [
      "0 1 1 1\n"
     ]
    }
   ],
   "source": [
    "#determe read quality in fastq-file\n",
    "def seq_qual(seq):\n",
    "    good_qual = 0\n",
    "    bad_qual = 0\n",
    "    for char in seq:\n",
    "        if char_qual(char):\n",
    "            good_qual += 1\n",
    "        else:\n",
    "            bad_qual += 1\n",
    "    # '0.7' selected experimentally, + 0.0001 to avoid division by zero in a reasonable time( without if)\n",
    "    if good_qual / (bad_qual + 0.0001) > 0.7:       \n",
    "        return 1\n",
    "    return 0\n",
    "#simple test:\n",
    "#print(seq_qual('BBBBB'), seq_qual('aaa'), seq_qual('aaaaBBB'), seq_qual('aaaaBBBB'))"
   ]
  },
  {
   "cell_type": "code",
   "execution_count": 105,
   "metadata": {},
   "outputs": [
    {
     "name": "stdout",
     "output_type": "stream",
     "text": [
      "4 0 2\n"
     ]
    }
   ],
   "source": [
    "#number of letters in sequence\n",
    "def num_char_in_seq(char_list, seq):\n",
    "    total_amount = 0\n",
    "    for char in seq:\n",
    "        if char in char_list and char_qual(char): # consider if char well read\n",
    "            total_amount += 1\n",
    "    return total_amount\n",
    "#simple test\n",
    "#print( num_char_in_seq(['a','b'], 'abcdeba'), num_char_in_seq([], 'abcd'), num_char_in_seq(['a','a'],'abca'))"
   ]
  },
  {
   "cell_type": "code",
   "execution_count": 108,
   "metadata": {},
   "outputs": [
    {
     "name": "stdout",
     "output_type": "stream",
     "text": [
      "0.5714285714285714 0.0 0.5\n"
     ]
    }
   ],
   "source": [
    "#simple func to count percentage of letters in sequencs\n",
    "def percentage(char_list, seq):\n",
    "    return num_char_in_seq(char_list, seq) / len(seq)\n",
    "#simple test\n",
    "#print( percentage(['a','b'], 'abcdeba'), percentage([], 'abcd'), percentage(['a','a'],'abca'))\n",
    "#out: 4/7 0 1/2"
   ]
  },
  {
   "cell_type": "code",
   "execution_count": 114,
   "metadata": {},
   "outputs": [],
   "source": [
    "#get file name, return data in list format to build a hystagram of GC-content\n",
    "def GC_content_data(file_name):\n",
    "    \n",
    "    target_nucleotides = ['G', 'C']\n",
    "    fastq_file = open(file_name, 'r')\n",
    "    \n",
    "    hystagram_data = []\n",
    "    cur_str_num = -1\n",
    "    \n",
    "    for tmp_string in fastq_file:\n",
    "        if cur_str_num % 4 == 0 and (seq_qual(tmp_string)): #this construction for enumeration just reads\n",
    "            hystagram_data.append(percentage(target_nucleotides, tmp_string))\n",
    "        cur_str_num += 1\n",
    "    \n",
    "    fastq_file.close()\n",
    "    return hystagram_data\n",
    "#simple test\n",
    "#print(GC_content_data('test.fastq'))"
   ]
  },
  {
   "cell_type": "code",
   "execution_count": 116,
   "metadata": {},
   "outputs": [],
   "source": [
    "#get file name, return data in list format to build a hystagram of errors depends of erreor's place\n",
    "def err_content_data(file_name):\n",
    "    \n",
    "    fastq_file = open(file_name, 'r')\n",
    "    \n",
    "    err_data = []\n",
    "    num_chars = []\n",
    "    \n",
    "    cur_str_num = 1\n",
    "    for tmp_string in fastq_file:\n",
    "        if cur_str_num % 4 == 0: #this construction for enumeration just string that contains quality\n",
    "            \n",
    "            for i in range(len(tmp_string)): # err_data[i] -  sum of all qualities at position [i]\n",
    "                if(len(err_data) <= i):\n",
    "                    err_data.append(ord(tmp_string[i]))\n",
    "                else:\n",
    "                    err_data[i] += ord(tmp_string[i])\n",
    "                    \n",
    "                if(len(num_chars) <= i): # num_chairs[i] - sum of amount of reads contains place [i]\n",
    "                    num_chars.append(1)\n",
    "                else:\n",
    "                    num_chars[i] += i\n",
    "        cur_str_num += 1\n",
    "        \n",
    "        data = [] # contains final answer\n",
    "    for i in range(len(err_data)):\n",
    "        data.append(num_chars[i] / err_data[i]) # err_data[i] can't be 0, because min quality = 33        \n",
    "    \n",
    "    fastq_file.close()            \n",
    "    \n",
    "    return data\n",
    "#simple test:\n",
    "#print(err_content_data('test.fastq'))"
   ]
  },
  {
   "cell_type": "code",
   "execution_count": 98,
   "metadata": {},
   "outputs": [
    {
     "data": {
      "text/plain": [
       "(array([1., 1., 1., 1., 0., 1., 1., 1., 0., 2.]),\n",
       " array([0.04950495, 0.06831683, 0.08712871, 0.10594059, 0.12475248,\n",
       "        0.14356436, 0.16237624, 0.18118812, 0.2       , 0.21881188,\n",
       "        0.23762376]),\n",
       " <a list of 10 Patch objects>)"
      ]
     },
     "execution_count": 98,
     "metadata": {},
     "output_type": "execute_result"
    },
    {
     "data": {
      "image/png": "[encoded data removed]",
      "text/plain": [
       "<Figure size 432x288 with 1 Axes>"
      ]
     },
     "metadata": {
      "needs_background": "light"
     },
     "output_type": "display_data"
    }
   ],
   "source": [
    "plt.hist(GC_content_data(\"test.fastq\"))"
   ]
  },
  {
   "cell_type": "markdown",
   "metadata": {},
   "source": [
    "Графики выглядят похоже\n",
    "<img src = \"gc_1.png\">"
   ]
  },
  {
   "cell_type": "markdown",
   "metadata": {},
   "source": [
    "<title>Графики похожи</title>\n",
    "<img source = \"GC_test1_fastq.png\">"
   ]
  },
  {
   "cell_type": "code",
   "execution_count": 99,
   "metadata": {},
   "outputs": [
    {
     "data": {
      "text/plain": [
       "(array([ 7., 10., 39., 56., 63., 35., 11.,  7.,  3.,  1.]),\n",
       " array([0.12871287, 0.15938997, 0.19006707, 0.22074417, 0.25142127,\n",
       "        0.28209837, 0.31277547, 0.34345257, 0.37412967, 0.40480677,\n",
       "        0.43548387]),\n",
       " <a list of 10 Patch objects>)"
      ]
     },
     "execution_count": 99,
     "metadata": {},
     "output_type": "execute_result"
    },
    {
     "data": {
      "image/png": "[encoded data removed]",
      "text/plain": [
       "<Figure size 432x288 with 1 Axes>"
      ]
     },
     "metadata": {
      "needs_background": "light"
     },
     "output_type": "display_data"
    }
   ],
   "source": [
    "plt.hist(GC_content_data(\"test3.fastq\"))"
   ]
  },
  {
   "cell_type": "markdown",
   "metadata": {},
   "source": [
    "Графики похожи\n",
    "<img src=\"gc_2.png\">"
   ]
  },
  {
   "cell_type": "code",
   "execution_count": 101,
   "metadata": {
    "scrolled": true
   },
   "outputs": [
    {
     "data": {
      "text/plain": [
       "(array([1.0000e+00, 0.0000e+00, 0.0000e+00, 0.0000e+00, 0.0000e+00,\n",
       "        0.0000e+00, 0.0000e+00, 0.0000e+00, 0.0000e+00, 4.0000e+00,\n",
       "        1.4000e+01, 3.4000e+01, 7.1000e+01, 1.7600e+02, 2.3900e+02,\n",
       "        2.9300e+02, 4.3100e+02, 6.2900e+02, 8.2500e+02, 1.0490e+03,\n",
       "        1.4040e+03, 1.9250e+03, 2.8720e+03, 4.1690e+03, 6.0480e+03,\n",
       "        8.7400e+03, 1.2641e+04, 1.7562e+04, 2.3213e+04, 3.0223e+04,\n",
       "        3.8271e+04, 4.7566e+04, 5.6983e+04, 6.5683e+04, 7.3950e+04,\n",
       "        8.1234e+04, 8.7093e+04, 9.0334e+04, 9.2799e+04, 9.3052e+04,\n",
       "        9.1534e+04, 8.7565e+04, 8.2462e+04, 7.5833e+04, 6.9023e+04,\n",
       "        6.2041e+04, 5.4161e+04, 4.6561e+04, 3.9478e+04, 3.3080e+04,\n",
       "        2.7277e+04, 2.2340e+04, 1.7912e+04, 1.4537e+04, 1.1441e+04,\n",
       "        8.9580e+03, 7.1150e+03, 5.4150e+03, 4.1110e+03, 3.3380e+03,\n",
       "        2.6320e+03, 2.0080e+03, 1.5920e+03, 1.2710e+03, 1.0000e+03,\n",
       "        7.4100e+02, 5.7200e+02, 4.4700e+02, 3.4200e+02, 3.0400e+02,\n",
       "        2.1900e+02, 1.8900e+02, 1.3400e+02, 1.1800e+02, 7.5000e+01,\n",
       "        7.4000e+01, 6.4000e+01, 4.6000e+01, 4.0000e+01, 2.4000e+01,\n",
       "        4.2000e+01, 2.5000e+01, 1.8000e+01, 1.5000e+01, 1.4000e+01,\n",
       "        9.0000e+00, 1.0000e+01, 7.0000e+00, 8.0000e+00, 5.0000e+00,\n",
       "        7.0000e+00, 1.0000e+00, 3.0000e+00, 1.0000e+00, 2.0000e+00,\n",
       "        1.0000e+00, 1.0000e+00, 0.0000e+00, 0.0000e+00, 1.0000e+00]),\n",
       " array([0.09271523, 0.09940397, 0.10609272, 0.11278146, 0.1194702 ,\n",
       "        0.12615894, 0.13284768, 0.13953642, 0.14622517, 0.15291391,\n",
       "        0.15960265, 0.16629139, 0.17298013, 0.17966887, 0.18635762,\n",
       "        0.19304636, 0.1997351 , 0.20642384, 0.21311258, 0.21980132,\n",
       "        0.22649007, 0.23317881, 0.23986755, 0.24655629, 0.25324503,\n",
       "        0.25993377, 0.26662252, 0.27331126, 0.28      , 0.28668874,\n",
       "        0.29337748, 0.30006623, 0.30675497, 0.31344371, 0.32013245,\n",
       "        0.32682119, 0.33350993, 0.34019868, 0.34688742, 0.35357616,\n",
       "        0.3602649 , 0.36695364, 0.37364238, 0.38033113, 0.38701987,\n",
       "        0.39370861, 0.40039735, 0.40708609, 0.41377483, 0.42046358,\n",
       "        0.42715232, 0.43384106, 0.4405298 , 0.44721854, 0.45390728,\n",
       "        0.46059603, 0.46728477, 0.47397351, 0.48066225, 0.48735099,\n",
       "        0.49403974, 0.50072848, 0.50741722, 0.51410596, 0.5207947 ,\n",
       "        0.52748344, 0.53417219, 0.54086093, 0.54754967, 0.55423841,\n",
       "        0.56092715, 0.56761589, 0.57430464, 0.58099338, 0.58768212,\n",
       "        0.59437086, 0.6010596 , 0.60774834, 0.61443709, 0.62112583,\n",
       "        0.62781457, 0.63450331, 0.64119205, 0.64788079, 0.65456954,\n",
       "        0.66125828, 0.66794702, 0.67463576, 0.6813245 , 0.68801325,\n",
       "        0.69470199, 0.70139073, 0.70807947, 0.71476821, 0.72145695,\n",
       "        0.7281457 , 0.73483444, 0.74152318, 0.74821192, 0.75490066,\n",
       "        0.7615894 ]),\n",
       " <a list of 100 Patch objects>)"
      ]
     },
     "execution_count": 101,
     "metadata": {},
     "output_type": "execute_result"
    },
    {
     "data": {
      "image/png": "[encoded data removed]",
      "text/plain": [
       "<Figure size 432x288 with 1 Axes>"
      ]
     },
     "metadata": {
      "needs_background": "light"
     },
     "output_type": "display_data"
    }
   ],
   "source": [
    "plt.hist(GC_content_data(\"frag.R1.fastq\"), bins = 100)"
   ]
  },
  {
   "cell_type": "markdown",
   "metadata": {},
   "source": [
    "Графики похожи\n",
    "<img src=\"gc_3.png\">"
   ]
  },
  {
   "cell_type": "code",
   "execution_count": 100,
   "metadata": {
    "scrolled": false
   },
   "outputs": [
    {
     "data": {
      "text/plain": [
       "(array([1.00000e+00, 1.00000e+00, 1.00000e+00, 0.00000e+00, 3.00000e+00,\n",
       "        4.00000e+00, 1.20000e+01, 7.00000e+00, 5.00000e+00, 1.70000e+01,\n",
       "        1.00000e+01, 1.30000e+01, 3.60000e+01, 3.70000e+01, 5.70000e+01,\n",
       "        2.31000e+02, 2.04000e+02, 2.98000e+02, 1.07600e+03, 7.50000e+02,\n",
       "        9.91000e+02, 3.25900e+03, 2.76700e+03, 4.03300e+03, 1.40000e+04,\n",
       "        1.17330e+04, 1.61410e+04, 4.98110e+04, 3.59150e+04, 4.43020e+04,\n",
       "        1.14538e+05, 6.96000e+04, 7.63160e+04, 1.68224e+05, 8.83620e+04,\n",
       "        8.86800e+04, 1.71914e+05, 8.00740e+04, 7.44440e+04, 1.29938e+05,\n",
       "        5.47360e+04, 4.79080e+04, 7.71870e+04, 3.01560e+04, 2.54700e+04,\n",
       "        3.81910e+04, 1.41840e+04, 1.15180e+04, 1.69050e+04, 6.14300e+03,\n",
       "        4.88300e+03, 7.06300e+03, 2.55900e+03, 2.07800e+03, 3.01200e+03,\n",
       "        1.08000e+03, 8.21000e+02, 1.17400e+03, 4.65000e+02, 3.69000e+02,\n",
       "        5.31000e+02, 1.68000e+02, 1.70000e+02, 2.25000e+02, 7.80000e+01,\n",
       "        9.20000e+01, 1.18000e+02, 4.40000e+01, 2.80000e+01, 4.80000e+01,\n",
       "        1.50000e+01, 2.30000e+01, 3.10000e+01, 6.00000e+00, 9.00000e+00,\n",
       "        8.00000e+00, 3.00000e+00, 3.00000e+00, 7.00000e+00, 2.00000e+00,\n",
       "        1.00000e+00, 7.00000e+00, 2.00000e+00, 1.00000e+00, 1.00000e+00,\n",
       "        2.00000e+00, 0.00000e+00, 5.00000e+00, 0.00000e+00, 1.00000e+00,\n",
       "        2.00000e+00, 3.00000e+00, 0.00000e+00, 1.00000e+00, 2.00000e+00,\n",
       "        1.00000e+00, 1.00000e+00, 1.00000e+00, 1.00000e+00, 1.00000e+00]),\n",
       " array([0.04635762, 0.05516556, 0.06397351, 0.07278146, 0.0815894 ,\n",
       "        0.09039735, 0.0992053 , 0.10801325, 0.11682119, 0.12562914,\n",
       "        0.13443709, 0.14324503, 0.15205298, 0.16086093, 0.16966887,\n",
       "        0.17847682, 0.18728477, 0.19609272, 0.20490066, 0.21370861,\n",
       "        0.22251656, 0.2313245 , 0.24013245, 0.2489404 , 0.25774834,\n",
       "        0.26655629, 0.27536424, 0.28417219, 0.29298013, 0.30178808,\n",
       "        0.31059603, 0.31940397, 0.32821192, 0.33701987, 0.34582781,\n",
       "        0.35463576, 0.36344371, 0.37225166, 0.3810596 , 0.38986755,\n",
       "        0.3986755 , 0.40748344, 0.41629139, 0.42509934, 0.43390728,\n",
       "        0.44271523, 0.45152318, 0.46033113, 0.46913907, 0.47794702,\n",
       "        0.48675497, 0.49556291, 0.50437086, 0.51317881, 0.52198675,\n",
       "        0.5307947 , 0.53960265, 0.5484106 , 0.55721854, 0.56602649,\n",
       "        0.57483444, 0.58364238, 0.59245033, 0.60125828, 0.61006623,\n",
       "        0.61887417, 0.62768212, 0.63649007, 0.64529801, 0.65410596,\n",
       "        0.66291391, 0.67172185, 0.6805298 , 0.68933775, 0.6981457 ,\n",
       "        0.70695364, 0.71576159, 0.72456954, 0.73337748, 0.74218543,\n",
       "        0.75099338, 0.75980132, 0.76860927, 0.77741722, 0.78622517,\n",
       "        0.79503311, 0.80384106, 0.81264901, 0.82145695, 0.8302649 ,\n",
       "        0.83907285, 0.84788079, 0.85668874, 0.86549669, 0.87430464,\n",
       "        0.88311258, 0.89192053, 0.90072848, 0.90953642, 0.91834437,\n",
       "        0.92715232]),\n",
       " <a list of 100 Patch objects>)"
      ]
     },
     "execution_count": 100,
     "metadata": {},
     "output_type": "execute_result"
    },
    {
     "data": {
      "image/png": "[encoded data removed]",
      "text/plain": [
       "<Figure size 432x288 with 1 Axes>"
      ]
     },
     "metadata": {
      "needs_background": "light"
     },
     "output_type": "display_data"
    }
   ],
   "source": [
    "plt.hist(GC_content_data(\"frag.R2.fastq\"), bins = 100)"
   ]
  },
  {
   "cell_type": "markdown",
   "metadata": {},
   "source": [
    "Графики похожи, но при всех значениях для порога качества послежовательностей [50 .. 99]% удовлетворительных результатов не получено\n",
    "<img src=\"gc_4.png\">"
   ]
  },
  {
   "cell_type": "code",
   "execution_count": 73,
   "metadata": {},
   "outputs": [
    {
     "data": {
      "text/plain": [
       "(array([69., 31.,  0.,  0.,  0.,  0.,  0.,  0.,  0.,  1.]),\n",
       " array([1.68350168e-03, 8.91515152e-01, 1.78134680e+00, 2.67117845e+00,\n",
       "        3.56101010e+00, 4.45084175e+00, 5.34067340e+00, 6.23050505e+00,\n",
       "        7.12033670e+00, 8.01016835e+00, 8.90000000e+00]),\n",
       " <a list of 10 Patch objects>)"
      ]
     },
     "execution_count": 73,
     "metadata": {},
     "output_type": "execute_result"
    },
    {
     "data": {
      "image/png": "[encoded data removed]",
      "text/plain": [
       "<Figure size 432x288 with 1 Axes>"
      ]
     },
     "metadata": {
      "needs_background": "light"
     },
     "output_type": "display_data"
    }
   ],
   "source": [
    "plt.hist(errcontent_data(\"test.fastq\"))"
   ]
  },
  {
   "cell_type": "markdown",
   "metadata": {},
   "source": [
    "Графики похожи\n",
    "<img src=\"qual_1.png\">"
   ]
  },
  {
   "cell_type": "code",
   "execution_count": 74,
   "metadata": {},
   "outputs": [
    {
     "data": {
      "text/plain": [
       "(array([69., 31.,  0.,  0.,  0.,  0.,  0.,  0.,  0.,  1.]),\n",
       " array([5.63126478e-05, 9.93537523e-01, 1.98701873e+00, 2.98049995e+00,\n",
       "        3.97398116e+00, 4.96746237e+00, 5.96094358e+00, 6.95442479e+00,\n",
       "        7.94790600e+00, 8.94138721e+00, 9.93486842e+00]),\n",
       " <a list of 10 Patch objects>)"
      ]
     },
     "execution_count": 74,
     "metadata": {},
     "output_type": "execute_result"
    },
    {
     "data": {
      "image/png": "[encoded data removed]",
      "text/plain": [
       "<Figure size 432x288 with 1 Axes>"
      ]
     },
     "metadata": {
      "needs_background": "light"
     },
     "output_type": "display_data"
    }
   ],
   "source": [
    "plt.hist(errcontent_data(\"test3.fastq\"))"
   ]
  },
  {
   "cell_type": "markdown",
   "metadata": {},
   "source": [
    "Графики похожи\n",
    "<img src=\"qual_2.png\">"
   ]
  },
  {
   "cell_type": "code",
   "execution_count": 75,
   "metadata": {},
   "outputs": [
    {
     "data": {
      "text/plain": [
       "(array([16., 15., 13., 14., 13., 13., 11., 10.,  9.,  7.,  7.,  6.,  6.,\n",
       "         5.,  5.,  0.,  0.,  0.,  0.,  0.,  0.,  0.,  0.,  0.,  0.,  0.,\n",
       "         0.,  0.,  0.,  0.,  0.,  0.,  0.,  0.,  0.,  0.,  0.,  0.,  0.,\n",
       "         0.,  0.,  0.,  0.,  0.,  0.,  0.,  0.,  0.,  0.,  0.,  0.,  0.,\n",
       "         0.,  0.,  0.,  0.,  0.,  0.,  0.,  0.,  0.,  0.,  0.,  0.,  0.,\n",
       "         0.,  0.,  0.,  0.,  0.,  0.,  0.,  0.,  0.,  0.,  0.,  0.,  0.,\n",
       "         0.,  0.,  0.,  0.,  0.,  0.,  0.,  0.,  0.,  0.,  0.,  0.,  0.,\n",
       "         0.,  0.,  0.,  0.,  0.,  0.,  0.,  0.,  1.]),\n",
       " array([6.06493834e-09, 1.49999919e-01, 2.99999832e-01, 4.49999745e-01,\n",
       "        5.99999659e-01, 7.49999572e-01, 8.99999485e-01, 1.04999940e+00,\n",
       "        1.19999931e+00, 1.34999922e+00, 1.49999914e+00, 1.64999905e+00,\n",
       "        1.79999896e+00, 1.94999888e+00, 2.09999879e+00, 2.24999870e+00,\n",
       "        2.39999862e+00, 2.54999853e+00, 2.69999844e+00, 2.84999836e+00,\n",
       "        2.99999827e+00, 3.14999818e+00, 3.29999809e+00, 3.44999801e+00,\n",
       "        3.59999792e+00, 3.74999783e+00, 3.89999775e+00, 4.04999766e+00,\n",
       "        4.19999757e+00, 4.34999749e+00, 4.49999740e+00, 4.64999731e+00,\n",
       "        4.79999723e+00, 4.94999714e+00, 5.09999705e+00, 5.24999697e+00,\n",
       "        5.39999688e+00, 5.54999679e+00, 5.69999670e+00, 5.84999662e+00,\n",
       "        5.99999653e+00, 6.14999644e+00, 6.29999636e+00, 6.44999627e+00,\n",
       "        6.59999618e+00, 6.74999610e+00, 6.89999601e+00, 7.04999592e+00,\n",
       "        7.19999584e+00, 7.34999575e+00, 7.49999566e+00, 7.64999558e+00,\n",
       "        7.79999549e+00, 7.94999540e+00, 8.09999531e+00, 8.24999523e+00,\n",
       "        8.39999514e+00, 8.54999505e+00, 8.69999497e+00, 8.84999488e+00,\n",
       "        8.99999479e+00, 9.14999471e+00, 9.29999462e+00, 9.44999453e+00,\n",
       "        9.59999445e+00, 9.74999436e+00, 9.89999427e+00, 1.00499942e+01,\n",
       "        1.01999941e+01, 1.03499940e+01, 1.04999939e+01, 1.06499938e+01,\n",
       "        1.07999938e+01, 1.09499937e+01, 1.10999936e+01, 1.12499935e+01,\n",
       "        1.13999934e+01, 1.15499933e+01, 1.16999932e+01, 1.18499931e+01,\n",
       "        1.19999931e+01, 1.21499930e+01, 1.22999929e+01, 1.24499928e+01,\n",
       "        1.25999927e+01, 1.27499926e+01, 1.28999925e+01, 1.30499924e+01,\n",
       "        1.31999924e+01, 1.33499923e+01, 1.34999922e+01, 1.36499921e+01,\n",
       "        1.37999920e+01, 1.39499919e+01, 1.40999918e+01, 1.42499918e+01,\n",
       "        1.43999917e+01, 1.45499916e+01, 1.46999915e+01, 1.48499914e+01,\n",
       "        1.49999913e+01]),\n",
       " <a list of 100 Patch objects>)"
      ]
     },
     "execution_count": 75,
     "metadata": {},
     "output_type": "execute_result"
    },
    {
     "data": {
      "image/png": "[encoded data removed]",
      "text/plain": [
       "<Figure size 432x288 with 1 Axes>"
      ]
     },
     "metadata": {
      "needs_background": "light"
     },
     "output_type": "display_data"
    }
   ],
   "source": [
    "plt.hist(errcontent_data(\"frag.R1.fastq\") , bins = 100)"
   ]
  },
  {
   "cell_type": "markdown",
   "metadata": {},
   "source": [
    "Графики похожи\n",
    "<img src=\"qual_3.png\">"
   ]
  },
  {
   "cell_type": "code",
   "execution_count": 76,
   "metadata": {},
   "outputs": [
    {
     "data": {
      "text/plain": [
       "(array([16., 14., 13., 13., 11., 11.,  8.,  8.,  8.,  6.,  7.,  8.,  8.,\n",
       "         8., 10.,  1.,  0.,  0.,  0.,  0.,  0.,  0.,  0.,  0.,  0.,  0.,\n",
       "         0.,  0.,  0.,  0.,  0.,  0.,  0.,  0.,  0.,  0.,  0.,  0.,  0.,\n",
       "         0.,  0.,  0.,  0.,  0.,  0.,  0.,  0.,  0.,  0.,  0.,  0.,  0.,\n",
       "         0.,  0.,  0.,  0.,  0.,  0.,  0.,  0.,  0.,  0.,  0.,  0.,  0.,\n",
       "         0.,  0.,  0.,  0.,  0.,  0.,  0.,  0.,  0.,  0.,  0.,  0.,  0.,\n",
       "         0.,  0.,  0.,  0.,  0.,  0.,  0.,  0.,  0.,  0.,  0.,  0.,  0.,\n",
       "         0.,  0.,  0.,  0.,  0.,  0.,  0.,  0.,  1.]),\n",
       " array([6.09949485e-09, 1.49999919e-01, 2.99999832e-01, 4.49999745e-01,\n",
       "        5.99999659e-01, 7.49999572e-01, 8.99999485e-01, 1.04999940e+00,\n",
       "        1.19999931e+00, 1.34999922e+00, 1.49999914e+00, 1.64999905e+00,\n",
       "        1.79999896e+00, 1.94999888e+00, 2.09999879e+00, 2.24999870e+00,\n",
       "        2.39999862e+00, 2.54999853e+00, 2.69999844e+00, 2.84999836e+00,\n",
       "        2.99999827e+00, 3.14999818e+00, 3.29999809e+00, 3.44999801e+00,\n",
       "        3.59999792e+00, 3.74999783e+00, 3.89999775e+00, 4.04999766e+00,\n",
       "        4.19999757e+00, 4.34999749e+00, 4.49999740e+00, 4.64999731e+00,\n",
       "        4.79999723e+00, 4.94999714e+00, 5.09999705e+00, 5.24999697e+00,\n",
       "        5.39999688e+00, 5.54999679e+00, 5.69999670e+00, 5.84999662e+00,\n",
       "        5.99999653e+00, 6.14999644e+00, 6.29999636e+00, 6.44999627e+00,\n",
       "        6.59999618e+00, 6.74999610e+00, 6.89999601e+00, 7.04999592e+00,\n",
       "        7.19999584e+00, 7.34999575e+00, 7.49999566e+00, 7.64999558e+00,\n",
       "        7.79999549e+00, 7.94999540e+00, 8.09999531e+00, 8.24999523e+00,\n",
       "        8.39999514e+00, 8.54999505e+00, 8.69999497e+00, 8.84999488e+00,\n",
       "        8.99999479e+00, 9.14999471e+00, 9.29999462e+00, 9.44999453e+00,\n",
       "        9.59999445e+00, 9.74999436e+00, 9.89999427e+00, 1.00499942e+01,\n",
       "        1.01999941e+01, 1.03499940e+01, 1.04999939e+01, 1.06499938e+01,\n",
       "        1.07999938e+01, 1.09499937e+01, 1.10999936e+01, 1.12499935e+01,\n",
       "        1.13999934e+01, 1.15499933e+01, 1.16999932e+01, 1.18499931e+01,\n",
       "        1.19999931e+01, 1.21499930e+01, 1.22999929e+01, 1.24499928e+01,\n",
       "        1.25999927e+01, 1.27499926e+01, 1.28999925e+01, 1.30499924e+01,\n",
       "        1.31999924e+01, 1.33499923e+01, 1.34999922e+01, 1.36499921e+01,\n",
       "        1.37999920e+01, 1.39499919e+01, 1.40999918e+01, 1.42499918e+01,\n",
       "        1.43999917e+01, 1.45499916e+01, 1.46999915e+01, 1.48499914e+01,\n",
       "        1.49999913e+01]),\n",
       " <a list of 100 Patch objects>)"
      ]
     },
     "execution_count": 76,
     "metadata": {},
     "output_type": "execute_result"
    },
    {
     "data": {
      "image/png": "[encoded data removed]",
      "text/plain": [
       "<Figure size 432x288 with 1 Axes>"
      ]
     },
     "metadata": {
      "needs_background": "light"
     },
     "output_type": "display_data"
    }
   ],
   "source": [
    "plt.hist(errcontent_data(\"frag.R2.fastq\"), bins = 100)"
   ]
  },
  {
   "cell_type": "markdown",
   "metadata": {},
   "source": [
    "Графики похожи\n",
    "<img src=\"qual_4.png\">"
   ]
  },
  {
   "cell_type": "markdown",
   "metadata": {},
   "source": [
    "Выводы:\n",
    "Построенные написанным мной алгоритмом графики аналогичны графикам, которые строит Fastqc, за исключением графика GCcontetn для frag.R2.fastq. Для улучшения этого графика нужно использовать дополнительные методы для отбора качественных данных."
   ]
  }
 ],
 "metadata": {
  "kernelspec": {
   "display_name": "Python 3",
   "language": "python",
   "name": "python3"
  },
  "language_info": {
   "codemirror_mode": {
    "name": "ipython",
    "version": 3
   },
   "file_extension": ".py",
   "mimetype": "text/x-python",
   "name": "python",
   "nbconvert_exporter": "python",
   "pygments_lexer": "ipython3",
   "version": "3.6.7"
  }
 },
 "nbformat": 4,
 "nbformat_minor": 2
}
